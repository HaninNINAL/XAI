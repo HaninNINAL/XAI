{
 "cells": [
  {
   "cell_type": "code",
   "execution_count": 2,
   "metadata": {
    "collapsed": true,
    "pycharm": {
     "is_executing": false
    }
   },
   "outputs": [],
   "source": [
    "# Data preprocessing\n",
    "from pandas import read_csv\n",
    "from sklearn.compose import ColumnTransformer\n",
    "from sklearn.pipeline import Pipeline\n",
    "from sklearn.model_selection import train_test_split, GridSearchCV\n",
    "from sklearn.metrics import accuracy_score, classification_report\n",
    "\n",
    "# ML algorithms\n",
    "from sklearn.linear_model import LogisticRegression\n",
    "from sklearn.tree import DecisionTreeClassifier\n",
    "from sklearn.ensemble import RandomForestClassifier\n",
    "\n",
    "# XAI\n",
    "import lime"
   ]
  },
  {
   "cell_type": "markdown",
   "metadata": {},
   "source": [
    "# LIME (Local Interpretable Model-Agnostic Explanations)\n",
    "https://github.com/marcotcr/lime\n",
    "\n",
    "## Introduction\n",
    "(It doesn't do a global interpretation of the model)\n",
    "- Local = Explains why a single data point was classified as a specific class. \n",
    "- Model-Agnostic = Treats the model as a black-box. Doesn't need to know how it makes predictions\n",
    "\n",
    "## LIME - How does it work?\n",
    "\n",
    "1. Choose an observation to explain\n",
    "2. Create new dataset around observarion by sampling from distribution learnt on training data.\n",
    "3. Calculate distances between new points and observation, that's our measure of similarity.\n",
    "4. Use model to predict class of the new points.\n",
    "5. Find subset of m features that has the strongest relationship with our target class.\n",
    "6. Fit a linear model on fake data in m dimensions weighted by similarity.\n",
    "7. Weights of linear model are used as explanation of decision. \n",
    "\n",
    "![title](img/lime/lime1.png) \n",
    "![title](img/lime/lime2.png) \n",
    "![title](img/lime/lime3.png) "
   ]
  },
  {
   "cell_type": "code",
   "execution_count": null,
   "metadata": {},
   "outputs": [],
   "source": []
  }
 ],
 "metadata": {
  "kernelspec": {
   "display_name": "Python 3",
   "language": "python",
   "name": "python3"
  },
  "language_info": {
   "codemirror_mode": {
    "name": "ipython",
    "version": 3
   },
   "file_extension": ".py",
   "mimetype": "text/x-python",
   "name": "python",
   "nbconvert_exporter": "python",
   "pygments_lexer": "ipython3",
   "version": "3.7.4"
  },
  "pycharm": {
   "stem_cell": {
    "cell_type": "raw",
    "metadata": {
     "collapsed": false
    },
    "source": []
   }
  }
 },
 "nbformat": 4,
 "nbformat_minor": 1
}
