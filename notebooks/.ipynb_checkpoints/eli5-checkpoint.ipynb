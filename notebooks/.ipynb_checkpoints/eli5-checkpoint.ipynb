{
 "cells": [
  {
   "cell_type": "code",
   "execution_count": 37,
   "metadata": {
    "pycharm": {
     "is_executing": false
    }
   },
   "outputs": [],
   "source": [
    "from pandas import read_csv\n",
    "from sklearn.model_selection import train_test_split\n",
    "from sklearn.linear_model import LogisticRegression"
   ]
  },
  {
   "cell_type": "code",
   "execution_count": 39,
   "metadata": {
    "pycharm": {
     "is_executing": false,
     "name": "#%%\n"
    }
   },
   "outputs": [
    {
     "name": "stdout",
     "output_type": "stream",
     "text": [
      "% de aciertos:  0.7559055118110236\n"
     ]
    },
    {
     "name": "stderr",
     "output_type": "stream",
     "text": [
      "C:\\Users\\xabi1\\Miniconda3\\envs\\XAI\\lib\\site-packages\\sklearn\\linear_model\\logistic.py:432: FutureWarning: Default solver will be changed to 'lbfgs' in 0.22. Specify a solver to silence this warning.\n",
      "  FutureWarning)\n"
     ]
    }
   ],
   "source": [
    "# obtenermos los datos para generar modelo\n",
    "filename = \"data/pima-indians-diabetes.csv\"\n",
    "filename1 = \"D:\\master\\LIP\\XAI\\data\\pima-indians-diabetes.csv\"\n",
    "names = ['preg', 'plas', 'pres', 'skin', 'test', 'mass', 'pedi', 'age', 'class']\n",
    "df = read_csv(filename1, names=names)\n",
    "\n",
    "# preparar los datos\n",
    "array = df.values\n",
    "X = array[:, 0:8]\n",
    "Y = array[:, 8]\n",
    "test_size = 0.33\n",
    "seed = 7\n",
    "x_train, x_test, y_train, y_test = train_test_split(X, Y, test_size=test_size, random_state=seed)\n",
    "\n",
    "# generar modelo\n",
    "model = LogisticRegression()\n",
    "model.fit(x_train, y_train)\n",
    "\n",
    "# ver resultados del modelo\n",
    "result = model.score(x_test, y_test)\n",
    "\n",
    "print(\"% de aciertos: \", result)"
   ]
  },
  {
   "cell_type": "markdown",
   "metadata": {
    "pycharm": {
     "name": "#%% md\n"
    }
   },
   "source": [
    "# ELI 5 (Explain Like I'm 5)\n",
    "## Introduction\n",
    "- Usefull to debug sklearn-like models.\n",
    "- Provides global interpretation of \"white box\" models with consistent API (how your model works).\n",
    "- Provides local explanation of predictions (a concrete prediction explanation, how it takes that prediction).\n",
    "\n",
    "## ELI5 - API\n",
    "\n",
    "1. Explain model globally (features importance) <br>\n",
    "    ```python\n",
    "    import eli5\n",
    "    eli5.show_wheights(model)\n",
    "    ```\n",
    "    \n",
    "    \n",
    "2. Explain a single prediction <br>\n",
    "    ```python\n",
    "    import eli5\n",
    "    eli5.show_prediction(model, observation)\n",
    "    ```   \n",
    "\n",
    "\n"
   ]
  },
  {
   "cell_type": "code",
   "execution_count": null,
   "metadata": {
    "pycharm": {
     "is_executing": false,
     "name": "#%%\n"
    }
   },
   "outputs": [],
   "source": [
    "import eli5\n",
    "eli5.show_weights(model)"
   ]
  }
 ],
 "metadata": {
  "kernelspec": {
   "display_name": "Python 3",
   "language": "python",
   "name": "python3"
  },
  "language_info": {
   "codemirror_mode": {
    "name": "ipython",
    "version": 3
   },
   "file_extension": ".py",
   "mimetype": "text/x-python",
   "name": "python",
   "nbconvert_exporter": "python",
   "pygments_lexer": "ipython3",
   "version": "3.7.4"
  },
  "pycharm": {
   "stem_cell": {
    "cell_type": "raw",
    "metadata": {
     "collapsed": false
    },
    "source": []
   }
  }
 },
 "nbformat": 4,
 "nbformat_minor": 1
}
