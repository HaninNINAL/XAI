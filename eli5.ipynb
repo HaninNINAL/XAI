{
 "cells": [
  {
   "cell_type": "markdown",
   "metadata": {},
   "source": [
    "# ELI5"
   ]
  },
  {
   "cell_type": "code",
   "execution_count": 1,
   "metadata": {
    "pycharm": {
     "is_executing": false
    }
   },
   "outputs": [],
   "source": [
    "# Data preprocessing\n",
    "from pandas import read_csv\n",
    "from sklearn.model_selection import train_test_split\n",
    "from sklearn.metrics import accuracy_score\n",
    "\n",
    "# ML algorithms\n",
    "from sklearn.tree import DecisionTreeClassifier\n",
    "from sklearn.ensemble import RandomForestClassifier\n",
    "\n",
    "# XAI\n",
    "import eli5"
   ]
  },
  {
   "cell_type": "code",
   "execution_count": 2,
   "metadata": {
    "pycharm": {
     "is_executing": false,
     "name": "#%%\n"
    }
   },
   "outputs": [],
   "source": [
    "# Obtenermos los datos para generar modelo\n",
    "names = ['preg', 'plas', 'pres', 'skin', 'test', 'mass', 'pedi', 'age', 'class']\n",
    "input_names = names[:len(names)-1] # quitamos la clase de los nombres \n",
    "df = read_csv(\"data/classification/pima-indians-diabetes.csv\", names=names)"
   ]
  },
  {
   "cell_type": "code",
   "execution_count": 3,
   "metadata": {
    "pycharm": {
     "is_executing": false
    }
   },
   "outputs": [],
   "source": [
    "# Dividimos el dataset en test(33%) y train(66%)\n",
    "x = df.drop(\"class\", axis=1)\n",
    "y = df[\"class\"]\n",
    "x_train, x_test, y_train, y_test = train_test_split(x, y, test_size=0.33)"
   ]
  },
  {
   "cell_type": "code",
   "execution_count": 4,
   "metadata": {
    "pycharm": {
     "is_executing": false
    }
   },
   "outputs": [],
   "source": [
    "# Decision Tree Classifier\n",
    "dt_model = DecisionTreeClassifier().fit(x_train, y_train)\n",
    "# Random Forest\n",
    "rf_model = RandomForestClassifier(n_estimators=100, max_features=3).fit(x_train, y_train)"
   ]
  },
  {
   "cell_type": "markdown",
   "metadata": {
    "pycharm": {
     "is_executing": false,
     "name": "#%% md\n"
    }
   },
   "source": [
    "### Decision Tree"
   ]
  },
  {
   "cell_type": "code",
   "execution_count": 5,
   "metadata": {
    "pycharm": {
     "is_executing": false,
     "name": "#%%"
    }
   },
   "outputs": [
    {
     "name": "stdout",
     "output_type": "stream",
     "text": [
      "Precisión:  73.62204724409449 %\n"
     ]
    }
   ],
   "source": [
    "# Probamos la precisión del modelo\n",
    "y_predicted = dt_model.predict(x_test)\n",
    "accuracy = accuracy_score(y_test, y_predicted)\n",
    "print(\"Precisión: \",  accuracy*100, \"%\")"
   ]
  },
  {
   "cell_type": "code",
   "execution_count": 6,
   "metadata": {
    "pycharm": {
     "is_executing": false
    }
   },
   "outputs": [
    {
     "data": {
      "text/html": "\n    <style>\n    table.eli5-weights tr:hover {\n        filter: brightness(85%);\n    }\n</style>\n\n\n\n    \n\n    \n\n    \n\n    \n\n    \n\n    \n\n\n    \n\n    \n\n    \n\n    \n\n    \n\n    \n\n\n    \n\n    \n\n    \n\n    \n\n    \n        <table class=\"eli5-weights eli5-feature-importances\" style=\"border-collapse: collapse; border: none; margin-top: 0em; table-layout: auto;\">\n    <thead>\n    <tr style=\"border: none;\">\n        <th style=\"padding: 0 1em 0 0.5em; text-align: right; border: none;\">Weight</th>\n        <th style=\"padding: 0 0.5em 0 0.5em; text-align: left; border: none;\">Feature</th>\n    </tr>\n    </thead>\n    <tbody>\n    \n        <tr style=\"background-color: hsl(120, 100.00%, 80.00%); border: none;\">\n            <td style=\"padding: 0 1em 0 0.5em; text-align: right; border: none;\">\n                0.2750\n                \n            </td>\n            <td style=\"padding: 0 0.5em 0 0.5em; text-align: left; border: none;\">\n                plas\n            </td>\n        </tr>\n    \n        <tr style=\"background-color: hsl(120, 100.00%, 82.85%); border: none;\">\n            <td style=\"padding: 0 1em 0 0.5em; text-align: right; border: none;\">\n                0.2207\n                \n            </td>\n            <td style=\"padding: 0 0.5em 0 0.5em; text-align: left; border: none;\">\n                mass\n            </td>\n        </tr>\n    \n        <tr style=\"background-color: hsl(120, 100.00%, 89.48%); border: none;\">\n            <td style=\"padding: 0 1em 0 0.5em; text-align: right; border: none;\">\n                0.1099\n                \n            </td>\n            <td style=\"padding: 0 0.5em 0 0.5em; text-align: left; border: none;\">\n                preg\n            </td>\n        </tr>\n    \n        <tr style=\"background-color: hsl(120, 100.00%, 90.08%); border: none;\">\n            <td style=\"padding: 0 1em 0 0.5em; text-align: right; border: none;\">\n                0.1010\n                \n            </td>\n            <td style=\"padding: 0 0.5em 0 0.5em; text-align: left; border: none;\">\n                pedi\n            </td>\n        </tr>\n    \n        <tr style=\"background-color: hsl(120, 100.00%, 90.76%); border: none;\">\n            <td style=\"padding: 0 1em 0 0.5em; text-align: right; border: none;\">\n                0.0913\n                \n            </td>\n            <td style=\"padding: 0 0.5em 0 0.5em; text-align: left; border: none;\">\n                age\n            </td>\n        </tr>\n    \n        <tr style=\"background-color: hsl(120, 100.00%, 91.08%); border: none;\">\n            <td style=\"padding: 0 1em 0 0.5em; text-align: right; border: none;\">\n                0.0868\n                \n            </td>\n            <td style=\"padding: 0 0.5em 0 0.5em; text-align: left; border: none;\">\n                pres\n            </td>\n        </tr>\n    \n        <tr style=\"background-color: hsl(120, 100.00%, 91.43%); border: none;\">\n            <td style=\"padding: 0 1em 0 0.5em; text-align: right; border: none;\">\n                0.0820\n                \n            </td>\n            <td style=\"padding: 0 0.5em 0 0.5em; text-align: left; border: none;\">\n                skin\n            </td>\n        </tr>\n    \n        <tr style=\"background-color: hsl(120, 100.00%, 95.42%); border: none;\">\n            <td style=\"padding: 0 1em 0 0.5em; text-align: right; border: none;\">\n                0.0334\n                \n            </td>\n            <td style=\"padding: 0 0.5em 0 0.5em; text-align: left; border: none;\">\n                test\n            </td>\n        </tr>\n    \n    \n    </tbody>\n</table>\n    \n\n    \n\n\n    \n\n    \n\n    \n\n    \n\n    \n\n    \n        \n        <br>\n        <pre>plas <= 157.500  (84.8%)\n    mass <= 26.350  (21.2%)\n        mass <= 9.100  (1.2%)\n            preg <= 8.000  (1.0%)  ---> 0.000\n            preg > 8.000  (0.2%)  ---> 1.000\n        mass > 9.100  (20.0%)  ---> 0.000\n    mass > 26.350  (63.6%)\n        age <= 28.500  (29.4%)\n            plas <= 127.500  (22.4%)\n                skin <= 29.500  (13.6%)\n                    preg <= 7.000  (13.4%)\n                        skin <= 5.000  (2.9%)\n                            plas <= 110.500  (1.9%)  ---> 0.000\n                            plas > 110.500  (1.0%)\n                                mass <= 32.000  (0.4%)  ---> 0.000\n                                mass > 32.000  (0.6%)  ---> 1.000\n                        skin > 5.000  (10.5%)  ---> 0.000\n                    preg > 7.000  (0.2%)  ---> 1.000\n                skin > 29.500  (8.8%)\n                    pedi <= 0.494  (4.9%)\n                        mass <= 45.350  (4.7%)\n                            skin <= 30.500  (0.6%)\n                                age <= 24.000  (0.4%)  ---> 0.000\n                                age > 24.000  (0.2%)  ---> 1.000\n                            skin > 30.500  (4.1%)  ---> 0.000\n                        mass > 45.350  (0.2%)  ---> 1.000\n                    pedi > 0.494  (3.9%)\n                        mass <= 38.750  (2.5%)\n                            mass <= 32.700  (0.6%)  ---> 0.000\n                            mass > 32.700  (1.9%)\n                                pres <= 61.000  (0.4%)\n                                    age <= 24.500  (0.2%)  ---> 0.000\n                                    age > 24.500  (0.2%)  ---> 1.000\n                                pres > 61.000  (1.6%)  ---> 1.000\n                        mass > 38.750  (1.4%)\n                            pres <= 39.000  (0.2%)  ---> 1.000\n                            pres > 39.000  (1.2%)  ---> 0.000\n            plas > 127.500  (7.0%)\n                pres <= 61.000  (1.2%)\n                    mass <= 29.350  (0.2%)  ---> 0.000\n                    mass > 29.350  (1.0%)  ---> 1.000\n                pres > 61.000  (5.8%)\n                    mass <= 41.800  (4.5%)\n                        mass <= 32.450  (2.3%)\n                            pres <= 81.000  (1.4%)\n                                plas <= 137.500  (0.8%)  ---> 1.000\n                                plas > 137.500  (0.6%)\n                                    mass <= 30.750  (0.4%)  ---> 0.000\n                                    mass > 30.750  (0.2%)  ---> 1.000\n                            pres > 81.000  (1.0%)  ---> 0.000\n                        mass > 32.450  (2.1%)  ---> 0.000\n                    mass > 41.800  (1.4%)\n                        pedi <= 0.471  (0.8%)  ---> 1.000\n                        pedi > 0.471  (0.6%)\n                            skin <= 11.500  (0.2%)  ---> 1.000\n                            skin > 11.500  (0.4%)  ---> 0.000\n        age > 28.500  (34.2%)\n            pedi <= 0.514  (21.0%)\n                plas <= 93.500  (3.7%)\n                    plas <= 28.500  (0.2%)  ---> 1.000\n                    plas > 28.500  (3.5%)\n                        preg <= 11.500  (3.1%)  ---> 0.000\n                        preg > 11.500  (0.4%)\n                            pres <= 66.000  (0.2%)  ---> 0.000\n                            pres > 66.000  (0.2%)  ---> 1.000\n                plas > 93.500  (17.3%)\n                    pedi <= 0.204  (3.1%)\n                        mass <= 30.850  (1.0%)\n                            preg <= 4.500  (0.4%)  ---> 0.000\n                            preg > 4.500  (0.6%)  ---> 1.000\n                        mass > 30.850  (2.1%)  ---> 0.000\n                    pedi > 0.204  (14.2%)\n                        mass <= 39.450  (13.2%)\n                            pres <= 84.500  (11.5%)\n                                pres <= 79.000  (9.7%)\n                                    test <= 187.000  (8.2%)\n                                        preg <= 7.500  (5.4%)\n                                            age <= 41.500  (4.1%)\n                                                preg <= 5.500  (2.7%)\n                                                    skin <= 25.000  (1.4%)\n                                                        skin <= 6.000  (1.0%)\n                                                            pedi <= 0.232  (0.2%)  ---> 1.000\n                                                            pedi > 0.232  (0.8%)  ---> 0.000\n                                                        skin > 6.000  (0.4%)  ---> 1.000\n                                                    skin > 25.000  (1.4%)  ---> 0.000\n                                                preg > 5.500  (1.4%)\n                                                    test <= 60.000  (1.2%)  ---> 1.000\n                                                    test > 60.000  (0.2%)  ---> 0.000\n                                            age > 41.500  (1.4%)  ---> 1.000\n                                        preg > 7.500  (2.7%)\n                                            test <= 104.500  (2.3%)\n                                                plas <= 146.000  (2.1%)\n                                                    pres <= 67.000  (0.4%)\n                                                        preg <= 9.500  (0.2%)  ---> 0.000\n                                                        preg > 9.500  (0.2%)  ---> 1.000\n                                                    pres > 67.000  (1.8%)  ---> 0.000\n                                                plas > 146.000  (0.2%)  ---> 1.000\n                                            test > 104.500  (0.4%)  ---> 1.000\n                                    test > 187.000  (1.6%)\n                                        mass <= 30.000  (0.2%)  ---> 1.000\n                                        mass > 30.000  (1.4%)  ---> 0.000\n                                pres > 79.000  (1.8%)\n                                    pres <= 83.000  (1.2%)  ---> 1.000\n                                    pres > 83.000  (0.6%)\n                                        mass <= 29.150  (0.2%)  ---> 1.000\n                                        mass > 29.150  (0.4%)  ---> 0.000\n                            pres > 84.500  (1.8%)\n                                pres <= 98.000  (1.6%)  ---> 0.000\n                                pres > 98.000  (0.2%)  ---> 1.000\n                        mass > 39.450  (1.0%)  ---> 1.000\n            pedi > 0.514  (13.2%)\n                preg <= 8.500  (9.9%)\n                    plas <= 95.500  (1.4%)\n                        pedi <= 0.995  (1.2%)  ---> 0.000\n                        pedi > 0.995  (0.2%)  ---> 1.000\n                    plas > 95.500  (8.6%)\n                        preg <= 7.500  (7.6%)\n                            test <= 230.500  (7.0%)\n                                pedi <= 0.674  (1.6%)\n                                    plas <= 113.500  (0.2%)  ---> 0.000\n                                    plas > 113.500  (1.4%)  ---> 1.000\n                                pedi > 0.674  (5.4%)\n                                    skin <= 9.000  (1.6%)\n                                        preg <= 6.500  (1.4%)\n                                            plas <= 130.000  (0.8%)  ---> 0.000\n                                            plas > 130.000  (0.6%)\n                                                age <= 38.000  (0.2%)  ---> 1.000\n                                                age > 38.000  (0.4%)  ---> 0.000\n                                        preg > 6.500  (0.2%)  ---> 1.000\n                                    skin > 9.000  (3.9%)\n                                        mass <= 31.250  (1.2%)\n                                            skin <= 27.000  (0.6%)\n                                                plas <= 113.500  (0.2%)  ---> 0.000\n                                                plas > 113.500  (0.4%)  ---> 1.000\n                                            skin > 27.000  (0.6%)  ---> 0.000\n                                        mass > 31.250  (2.7%)\n                                            skin <= 43.000  (1.6%)  ---> 1.000\n                                            skin > 43.000  (1.2%)\n                                                preg <= 1.500  (0.4%)  ---> 0.000\n                                                preg > 1.500  (0.8%)\n                                                    preg <= 5.000  (0.6%)  ---> 1.000\n                                                    preg > 5.000  (0.2%)  ---> 0.000\n                            test > 230.500  (0.6%)  ---> 0.000\n                        preg > 7.500  (1.0%)  ---> 1.000\n                preg > 8.500  (3.3%)\n                    plas <= 152.500  (2.9%)  ---> 1.000\n                    plas > 152.500  (0.4%)\n                        preg <= 11.000  (0.2%)  ---> 1.000\n                        preg > 11.000  (0.2%)  ---> 0.000\nplas > 157.500  (15.2%)\n    mass <= 23.100  (0.4%)  ---> 0.000\n    mass > 23.100  (14.8%)\n        pres <= 71.000  (6.8%)\n            skin <= 27.000  (3.5%)\n                pedi <= 0.312  (1.6%)\n                    pres <= 32.000  (0.2%)  ---> 1.000\n                    pres > 32.000  (1.4%)\n                        skin <= 16.500  (1.0%)  ---> 0.000\n                        skin > 16.500  (0.4%)\n                            mass <= 32.800  (0.2%)  ---> 1.000\n                            mass > 32.800  (0.2%)  ---> 0.000\n                pedi > 0.312  (1.9%)\n                    skin <= 24.500  (1.8%)\n                        age <= 27.000  (0.2%)  ---> 0.000\n                        age > 27.000  (1.6%)  ---> 1.000\n                    skin > 24.500  (0.2%)  ---> 0.000\n            skin > 27.000  (3.3%)\n                pedi <= 2.111  (3.1%)  ---> 1.000\n                pedi > 2.111  (0.2%)  ---> 0.000\n        pres > 71.000  (8.0%)\n            age <= 53.500  (6.6%)  ---> 1.000\n            age > 53.500  (1.4%)\n                skin <= 30.500  (1.2%)\n                    preg <= 9.500  (1.0%)  ---> 1.000\n                    preg > 9.500  (0.2%)  ---> 0.000\n                skin > 30.500  (0.2%)  ---> 0.000</pre>\n    \n\n\n\n",
      "text/plain": "<IPython.core.display.HTML object>"
     },
     "execution_count": 6,
     "metadata": {},
     "output_type": "execute_result"
    }
   ],
   "source": [
    "# Miramos la interpretabilidad del modelo\n",
    "eli5.show_weights(dt_model, feature_names=input_names)"
   ]
  },
  {
   "cell_type": "code",
   "execution_count": 7,
   "metadata": {
    "pycharm": {
     "is_executing": false
    }
   },
   "outputs": [
    {
     "data": {
      "text/html": "\n    <style>\n    table.eli5-weights tr:hover {\n        filter: brightness(85%);\n    }\n</style>\n\n\n\n    \n\n    \n\n    \n\n    \n\n    \n\n    \n\n\n    \n\n    \n\n    \n\n    \n        \n\n    \n\n        \n            \n                \n                \n    \n        <p style=\"margin-bottom: 0.5em; margin-top: 0em\">\n            <b>\n    \n        y=1\n    \n</b>\n\n    \n    (probability <b>1.000</b>)\n\ntop features\n        </p>\n    \n    <table class=\"eli5-weights\"\n           style=\"border-collapse: collapse; border: none; margin-top: 0em; table-layout: auto; margin-bottom: 2em;\">\n        <thead>\n        <tr style=\"border: none;\">\n            \n                <th style=\"padding: 0 1em 0 0.5em; text-align: right; border: none;\" title=\"Feature contribution already accounts for the feature value (for linear models, contribution = weight * feature value), and the sum of feature contributions is equal to the score or, for some classifiers, to the probability. Feature values are shown if &quot;show_feature_values&quot; is True.\">\n                    Contribution<sup>?</sup>\n                </th>\n            \n            <th style=\"padding: 0 0.5em 0 0.5em; text-align: left; border: none;\">Feature</th>\n            \n                <th style=\"padding: 0 0.5em 0 1em; text-align: right; border: none;\">Value</th>\n            \n        </tr>\n        </thead>\n        <tbody>\n        \n            <tr style=\"background-color: hsl(120, 100.00%, 80.00%); border: none;\">\n    <td style=\"padding: 0 1em 0 0.5em; text-align: right; border: none;\">\n        +0.619\n    </td>\n    <td style=\"padding: 0 0.5em 0 0.5em; text-align: left; border: none;\">\n        mass\n    </td>\n    \n        <td style=\"padding: 0 0.5em 0 1em; text-align: right; border: none;\">\n            39.500\n        </td>\n    \n</tr>\n        \n            <tr style=\"background-color: hsl(120, 100.00%, 86.58%); border: none;\">\n    <td style=\"padding: 0 1em 0 0.5em; text-align: right; border: none;\">\n        +0.350\n    </td>\n    <td style=\"padding: 0 0.5em 0 0.5em; text-align: left; border: none;\">\n        &lt;BIAS&gt;\n    </td>\n    \n        <td style=\"padding: 0 0.5em 0 1em; text-align: right; border: none;\">\n            1.000\n        </td>\n    \n</tr>\n        \n            <tr style=\"background-color: hsl(120, 100.00%, 93.55%); border: none;\">\n    <td style=\"padding: 0 1em 0 0.5em; text-align: right; border: none;\">\n        +0.123\n    </td>\n    <td style=\"padding: 0 0.5em 0 0.5em; text-align: left; border: none;\">\n        age\n    </td>\n    \n        <td style=\"padding: 0 0.5em 0 1em; text-align: right; border: none;\">\n            38.000\n        </td>\n    \n</tr>\n        \n        \n\n        \n        \n            <tr style=\"background-color: hsl(0, 100.00%, 97.50%); border: none;\">\n    <td style=\"padding: 0 1em 0 0.5em; text-align: right; border: none;\">\n        -0.032\n    </td>\n    <td style=\"padding: 0 0.5em 0 0.5em; text-align: left; border: none;\">\n        plas\n    </td>\n    \n        <td style=\"padding: 0 0.5em 0 1em; text-align: right; border: none;\">\n            106.000\n        </td>\n    \n</tr>\n        \n            <tr style=\"background-color: hsl(0, 100.00%, 96.08%); border: none;\">\n    <td style=\"padding: 0 1em 0 0.5em; text-align: right; border: none;\">\n        -0.060\n    </td>\n    <td style=\"padding: 0 0.5em 0 0.5em; text-align: left; border: none;\">\n        pedi\n    </td>\n    \n        <td style=\"padding: 0 0.5em 0 1em; text-align: right; border: none;\">\n            0.286\n        </td>\n    \n</tr>\n        \n\n        </tbody>\n    </table>\n\n            \n        \n\n        \n\n\n\n    \n\n    \n\n    \n\n    \n\n\n    \n\n    \n\n    \n\n    \n\n    \n\n    \n\n\n    \n\n    \n\n    \n\n    \n\n    \n\n    \n\n\n\n",
      "text/plain": "<IPython.core.display.HTML object>"
     },
     "execution_count": 7,
     "metadata": {},
     "output_type": "execute_result"
    }
   ],
   "source": [
    "# Miramos la interpretabilidad de la predicción\n",
    "i = 0\n",
    "eli5.show_prediction(dt_model, x_test.iloc[i], feature_names=input_names, show_feature_values=True)"
   ]
  },
  {
   "cell_type": "markdown",
   "metadata": {
    "pycharm": {
     "name": "#%% md\n"
    }
   },
   "source": [
    "### Random Forest\n"
   ]
  },
  {
   "cell_type": "code",
   "execution_count": 8,
   "metadata": {
    "pycharm": {
     "is_executing": false
    }
   },
   "outputs": [
    {
     "name": "stdout",
     "output_type": "stream",
     "text": [
      "Precisión:  75.98425196850394 %\n"
     ]
    }
   ],
   "source": [
    "# Probamos la precisión del modelo\n",
    "y_predicted = rf_model.predict(x_test)\n",
    "accuracy = accuracy_score(y_test, y_predicted)\n",
    "print(\"Precisión: \",  accuracy*100, \"%\")"
   ]
  },
  {
   "cell_type": "code",
   "execution_count": 9,
   "metadata": {
    "pycharm": {
     "is_executing": false
    }
   },
   "outputs": [
    {
     "data": {
      "text/html": "\n    <style>\n    table.eli5-weights tr:hover {\n        filter: brightness(85%);\n    }\n</style>\n\n\n\n    \n\n    \n\n    \n\n    \n\n    \n\n    \n\n\n    \n\n    \n\n    \n\n    \n\n    \n\n    \n\n\n    \n\n    \n\n    \n\n    \n\n    \n        <table class=\"eli5-weights eli5-feature-importances\" style=\"border-collapse: collapse; border: none; margin-top: 0em; table-layout: auto;\">\n    <thead>\n    <tr style=\"border: none;\">\n        <th style=\"padding: 0 1em 0 0.5em; text-align: right; border: none;\">Weight</th>\n        <th style=\"padding: 0 0.5em 0 0.5em; text-align: left; border: none;\">Feature</th>\n    </tr>\n    </thead>\n    <tbody>\n    \n        <tr style=\"background-color: hsl(120, 100.00%, 80.00%); border: none;\">\n            <td style=\"padding: 0 1em 0 0.5em; text-align: right; border: none;\">\n                0.2733\n                \n                    &plusmn; 0.1219\n                \n            </td>\n            <td style=\"padding: 0 0.5em 0 0.5em; text-align: left; border: none;\">\n                plas\n            </td>\n        </tr>\n    \n        <tr style=\"background-color: hsl(120, 100.00%, 84.96%); border: none;\">\n            <td style=\"padding: 0 1em 0 0.5em; text-align: right; border: none;\">\n                0.1818\n                \n                    &plusmn; 0.0973\n                \n            </td>\n            <td style=\"padding: 0 0.5em 0 0.5em; text-align: left; border: none;\">\n                mass\n            </td>\n        </tr>\n    \n        <tr style=\"background-color: hsl(120, 100.00%, 87.82%); border: none;\">\n            <td style=\"padding: 0 1em 0 0.5em; text-align: right; border: none;\">\n                0.1346\n                \n                    &plusmn; 0.0727\n                \n            </td>\n            <td style=\"padding: 0 0.5em 0 0.5em; text-align: left; border: none;\">\n                pedi\n            </td>\n        </tr>\n    \n        <tr style=\"background-color: hsl(120, 100.00%, 88.37%); border: none;\">\n            <td style=\"padding: 0 1em 0 0.5em; text-align: right; border: none;\">\n                0.1260\n                \n                    &plusmn; 0.0899\n                \n            </td>\n            <td style=\"padding: 0 0.5em 0 0.5em; text-align: left; border: none;\">\n                age\n            </td>\n        </tr>\n    \n        <tr style=\"background-color: hsl(120, 100.00%, 91.73%); border: none;\">\n            <td style=\"padding: 0 1em 0 0.5em; text-align: right; border: none;\">\n                0.0774\n                \n                    &plusmn; 0.0549\n                \n            </td>\n            <td style=\"padding: 0 0.5em 0 0.5em; text-align: left; border: none;\">\n                pres\n            </td>\n        </tr>\n    \n        <tr style=\"background-color: hsl(120, 100.00%, 91.77%); border: none;\">\n            <td style=\"padding: 0 1em 0 0.5em; text-align: right; border: none;\">\n                0.0769\n                \n                    &plusmn; 0.0590\n                \n            </td>\n            <td style=\"padding: 0 0.5em 0 0.5em; text-align: left; border: none;\">\n                preg\n            </td>\n        </tr>\n    \n        <tr style=\"background-color: hsl(120, 100.00%, 91.90%); border: none;\">\n            <td style=\"padding: 0 1em 0 0.5em; text-align: right; border: none;\">\n                0.0751\n                \n                    &plusmn; 0.0674\n                \n            </td>\n            <td style=\"padding: 0 0.5em 0 0.5em; text-align: left; border: none;\">\n                skin\n            </td>\n        </tr>\n    \n        <tr style=\"background-color: hsl(120, 100.00%, 93.49%); border: none;\">\n            <td style=\"padding: 0 1em 0 0.5em; text-align: right; border: none;\">\n                0.0550\n                \n                    &plusmn; 0.0547\n                \n            </td>\n            <td style=\"padding: 0 0.5em 0 0.5em; text-align: left; border: none;\">\n                test\n            </td>\n        </tr>\n    \n    \n    </tbody>\n</table>\n    \n\n    \n\n\n    \n\n    \n\n    \n\n    \n\n    \n\n    \n\n\n\n",
      "text/plain": "<IPython.core.display.HTML object>"
     },
     "execution_count": 9,
     "metadata": {},
     "output_type": "execute_result"
    }
   ],
   "source": [
    "# Miramos la interpretabilidad del modelo\n",
    "eli5.show_weights(rf_model, feature_names=input_names)"
   ]
  },
  {
   "cell_type": "code",
   "execution_count": 10,
   "metadata": {
    "pycharm": {
     "is_executing": false
    }
   },
   "outputs": [
    {
     "data": {
      "text/html": "\n    <style>\n    table.eli5-weights tr:hover {\n        filter: brightness(85%);\n    }\n</style>\n\n\n\n    \n\n    \n\n    \n\n    \n\n    \n\n    \n\n\n    \n\n    \n\n    \n\n    \n        \n\n    \n\n        \n            \n                \n                \n    \n        <p style=\"margin-bottom: 0.5em; margin-top: 0em\">\n            <b>\n    \n        y=0\n    \n</b>\n\n    \n    (probability <b>0.880</b>)\n\ntop features\n        </p>\n    \n    <table class=\"eli5-weights\"\n           style=\"border-collapse: collapse; border: none; margin-top: 0em; table-layout: auto; margin-bottom: 2em;\">\n        <thead>\n        <tr style=\"border: none;\">\n            \n                <th style=\"padding: 0 1em 0 0.5em; text-align: right; border: none;\" title=\"Feature contribution already accounts for the feature value (for linear models, contribution = weight * feature value), and the sum of feature contributions is equal to the score or, for some classifiers, to the probability. Feature values are shown if &quot;show_feature_values&quot; is True.\">\n                    Contribution<sup>?</sup>\n                </th>\n            \n            <th style=\"padding: 0 0.5em 0 0.5em; text-align: left; border: none;\">Feature</th>\n            \n                <th style=\"padding: 0 0.5em 0 1em; text-align: right; border: none;\">Value</th>\n            \n        </tr>\n        </thead>\n        <tbody>\n        \n            <tr style=\"background-color: hsl(120, 100.00%, 80.00%); border: none;\">\n    <td style=\"padding: 0 1em 0 0.5em; text-align: right; border: none;\">\n        +0.654\n    </td>\n    <td style=\"padding: 0 0.5em 0 0.5em; text-align: left; border: none;\">\n        &lt;BIAS&gt;\n    </td>\n    \n        <td style=\"padding: 0 0.5em 0 1em; text-align: right; border: none;\">\n            1.000\n        </td>\n    \n</tr>\n        \n            <tr style=\"background-color: hsl(120, 100.00%, 91.60%); border: none;\">\n    <td style=\"padding: 0 1em 0 0.5em; text-align: right; border: none;\">\n        +0.189\n    </td>\n    <td style=\"padding: 0 0.5em 0 0.5em; text-align: left; border: none;\">\n        plas\n    </td>\n    \n        <td style=\"padding: 0 0.5em 0 1em; text-align: right; border: none;\">\n            95.000\n        </td>\n    \n</tr>\n        \n            <tr style=\"background-color: hsl(120, 100.00%, 95.66%); border: none;\">\n    <td style=\"padding: 0 1em 0 0.5em; text-align: right; border: none;\">\n        +0.074\n    </td>\n    <td style=\"padding: 0 0.5em 0 0.5em; text-align: left; border: none;\">\n        pedi\n    </td>\n    \n        <td style=\"padding: 0 0.5em 0 1em; text-align: right; border: none;\">\n            0.161\n        </td>\n    \n</tr>\n        \n            <tr style=\"background-color: hsl(120, 100.00%, 97.17%); border: none;\">\n    <td style=\"padding: 0 1em 0 0.5em; text-align: right; border: none;\">\n        +0.040\n    </td>\n    <td style=\"padding: 0 0.5em 0 0.5em; text-align: left; border: none;\">\n        preg\n    </td>\n    \n        <td style=\"padding: 0 0.5em 0 1em; text-align: right; border: none;\">\n            4.000\n        </td>\n    \n</tr>\n        \n            <tr style=\"background-color: hsl(120, 100.00%, 98.36%); border: none;\">\n    <td style=\"padding: 0 1em 0 0.5em; text-align: right; border: none;\">\n        +0.018\n    </td>\n    <td style=\"padding: 0 0.5em 0 0.5em; text-align: left; border: none;\">\n        skin\n    </td>\n    \n        <td style=\"padding: 0 0.5em 0 1em; text-align: right; border: none;\">\n            0.000\n        </td>\n    \n</tr>\n        \n            <tr style=\"background-color: hsl(120, 100.00%, 99.04%); border: none;\">\n    <td style=\"padding: 0 1em 0 0.5em; text-align: right; border: none;\">\n        +0.008\n    </td>\n    <td style=\"padding: 0 0.5em 0 0.5em; text-align: left; border: none;\">\n        test\n    </td>\n    \n        <td style=\"padding: 0 0.5em 0 1em; text-align: right; border: none;\">\n            0.000\n        </td>\n    \n</tr>\n        \n        \n\n        \n        \n            <tr style=\"background-color: hsl(0, 100.00%, 99.14%); border: none;\">\n    <td style=\"padding: 0 1em 0 0.5em; text-align: right; border: none;\">\n        -0.007\n    </td>\n    <td style=\"padding: 0 0.5em 0 0.5em; text-align: left; border: none;\">\n        pres\n    </td>\n    \n        <td style=\"padding: 0 0.5em 0 1em; text-align: right; border: none;\">\n            64.000\n        </td>\n    \n</tr>\n        \n            <tr style=\"background-color: hsl(0, 100.00%, 97.26%); border: none;\">\n    <td style=\"padding: 0 1em 0 0.5em; text-align: right; border: none;\">\n        -0.038\n    </td>\n    <td style=\"padding: 0 0.5em 0 0.5em; text-align: left; border: none;\">\n        mass\n    </td>\n    \n        <td style=\"padding: 0 0.5em 0 1em; text-align: right; border: none;\">\n            32.000\n        </td>\n    \n</tr>\n        \n            <tr style=\"background-color: hsl(0, 100.00%, 96.34%); border: none;\">\n    <td style=\"padding: 0 1em 0 0.5em; text-align: right; border: none;\">\n        -0.058\n    </td>\n    <td style=\"padding: 0 0.5em 0 0.5em; text-align: left; border: none;\">\n        age\n    </td>\n    \n        <td style=\"padding: 0 0.5em 0 1em; text-align: right; border: none;\">\n            31.000\n        </td>\n    \n</tr>\n        \n\n        </tbody>\n    </table>\n\n            \n        \n\n        \n\n\n\n    \n\n    \n\n    \n\n    \n\n\n    \n\n    \n\n    \n\n    \n\n    \n\n    \n\n\n    \n\n    \n\n    \n\n    \n\n    \n\n    \n\n\n\n",
      "text/plain": "<IPython.core.display.HTML object>"
     },
     "execution_count": 10,
     "metadata": {},
     "output_type": "execute_result"
    }
   ],
   "source": [
    "# Miramos la interpretabilidad de la predicción\n",
    "i = 10\n",
    "eli5.show_prediction(rf_model, x_test.iloc[i], feature_names=input_names, show_feature_values=True)"
   ]
  }
 ],
 "metadata": {
  "kernelspec": {
   "display_name": "Python 3",
   "language": "python",
   "name": "python3"
  },
  "language_info": {
   "codemirror_mode": {
    "name": "ipython",
    "version": 3
   },
   "file_extension": ".py",
   "mimetype": "text/x-python",
   "name": "python",
   "nbconvert_exporter": "python",
   "pygments_lexer": "ipython3",
   "version": "3.7.4"
  },
  "pycharm": {
   "stem_cell": {
    "cell_type": "raw",
    "metadata": {
     "collapsed": false
    },
    "source": []
   }
  }
 },
 "nbformat": 4,
 "nbformat_minor": 1
}