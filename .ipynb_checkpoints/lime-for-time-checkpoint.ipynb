{
 "cells": [
  {
   "cell_type": "markdown",
   "metadata": {},
   "source": [
    "# LIME For Time"
   ]
  },
  {
   "cell_type": "code",
   "execution_count": 5,
   "metadata": {},
   "outputs": [],
   "source": [
    "import pandas as pd\n",
    "import matplotlib.pyplot as plt\n",
    "from sklearn.neighbors import KNeighborsClassifier as KNN\n",
    "from sklearn.metrics import accuracy_score as acc\n",
    "import numpy as np\n",
    "from lime import explanation\n",
    "from lime import lime_base\n",
    "from third_party.lime_for_time.lime_timeseries import LimeTimeSeriesExplanation\n",
    "import math"
   ]
  },
  {
   "cell_type": "code",
   "execution_count": 6,
   "metadata": {},
   "outputs": [],
   "source": [
    "coffee_train = pd.read_csv('third_party/lime_for_time/coffee_train.csv', sep=',', header=None).astype(float)\n",
    "coffee_train_y = coffee_train.loc[:, 0]\n",
    "coffee_train_x = coffee_train.loc[:, 1:]\n",
    "coffee_train.head()"
   ]
  },
  {
   "cell_type": "code",
   "execution_count": null,
   "metadata": {},
   "outputs": [],
   "source": [
    "coffee_test = pd.read_csv('third_party/lime_for_time/coffee_test.csv', sep=',', header=None).astype(float)\n",
    "coffee_test_y = coffee_test.loc[:, 0]\n",
    "coffee_test_x = coffee_test.loc[:, 1:]\n",
    "coffee_test.head()"
   ]
  }
 ],
 "metadata": {
  "kernelspec": {
   "display_name": "Python 3",
   "language": "python",
   "name": "python3"
  },
  "language_info": {
   "codemirror_mode": {
    "name": "ipython",
    "version": 3
   },
   "file_extension": ".py",
   "mimetype": "text/x-python",
   "name": "python",
   "nbconvert_exporter": "python",
   "pygments_lexer": "ipython3",
   "version": "3.7.4"
  },
  "pycharm": {
   "stem_cell": {
    "cell_type": "raw",
    "metadata": {
     "collapsed": false
    },
    "source": []
   }
  }
 },
 "nbformat": 4,
 "nbformat_minor": 1
}
