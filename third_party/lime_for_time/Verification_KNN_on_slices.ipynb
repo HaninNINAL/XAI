{
 "cells": [
  {
   "cell_type": "code",
   "execution_count": 1,
   "metadata": {
    "collapsed": true
   },
   "outputs": [],
   "source": [
    "#reload source files automatically\n",
    "%load_ext autoreload\n",
    "%autoreload 2"
   ]
  },
  {
   "cell_type": "code",
   "execution_count": 2,
   "metadata": {
    "collapsed": true
   },
   "outputs": [],
   "source": [
    "import pandas as pd\n",
    "import matplotlib.pyplot as plt\n",
    "from sklearn.neighbors import KNeighborsClassifier as KNN\n",
    "from sklearn.metrics import accuracy_score as acc\n",
    "import numpy as np"
   ]
  },
  {
   "cell_type": "markdown",
   "metadata": {},
   "source": [
    "### Coffee Data Set"
   ]
  },
  {
   "cell_type": "code",
   "execution_count": 3,
   "metadata": {
    "collapsed": true
   },
   "outputs": [],
   "source": [
    "coffee_train = pd.read_csv('coffee_train.csv', sep=',', header=None).astype(float)\n",
    "coffee_train_y = coffee_train.loc[:, 0]\n",
    "coffee_train_x = coffee_train.loc[:, 1:]\n",
    "coffee_test = pd.read_csv('coffee_test.csv', sep=',', header=None).astype(float)\n",
    "coffee_test_y = coffee_test.loc[:, 0]\n",
    "coffee_test_x = coffee_test.loc[:, 1:]"
   ]
  },
  {
   "cell_type": "code",
   "execution_count": 54,
   "metadata": {
    "collapsed": false
   },
   "outputs": [],
   "source": [
    "# splitting into bins\n",
    "coffee_train_x_slices = []\n",
    "coffee_test_x_slices = []\n",
    "num = 24\n",
    "for i in range(0,num):\n",
    "    coffee_train_x_slices.append(coffee_train_x.loc[:, i*len(coffee_train_x.columns)/num:(i+1)*len(coffee_train_x.columns)/num])\n",
    "    coffee_test_x_slices.append(coffee_test_x.loc[:, i*len(coffee_test_x.columns)/num:(i+1)*len(coffee_test_x.columns)/num])"
   ]
  },
  {
   "cell_type": "code",
   "execution_count": 75,
   "metadata": {
    "collapsed": false
   },
   "outputs": [
    {
     "name": "stdout",
     "output_type": "stream",
     "text": [
      "Accuracy KNN in slice  1: 0.50\n",
      "Accuracy KNN in slice  2: 0.68\n",
      "Accuracy KNN in slice  3: 0.82\n",
      "Accuracy KNN in slice  4: 0.75\n",
      "Accuracy KNN in slice  5: 0.79\n",
      "Accuracy KNN in slice  6: 0.64\n",
      "Accuracy KNN in slice  7: 0.79\n",
      "Accuracy KNN in slice  8: 0.61\n",
      "Accuracy KNN in slice  9: 0.68\n",
      "Accuracy KNN in slice 10: 0.79\n",
      "Accuracy KNN in slice 11: 0.75\n",
      "Accuracy KNN in slice 12: 0.64\n",
      "Accuracy KNN in slice 13: 0.89\n",
      "Accuracy KNN in slice 14: 0.93\n",
      "Accuracy KNN in slice 15: 0.75\n",
      "Accuracy KNN in slice 16: 0.82\n",
      "Accuracy KNN in slice 17: 0.68\n",
      "Accuracy KNN in slice 18: 0.82\n",
      "Accuracy KNN in slice 19: 0.96\n",
      "Accuracy KNN in slice 20: 0.96\n",
      "Accuracy KNN in slice 21: 0.71\n",
      "Accuracy KNN in slice 22: 0.61\n",
      "Accuracy KNN in slice 23: 0.61\n",
      "Accuracy KNN in slice 24: 0.61\n"
     ]
    }
   ],
   "source": [
    "# training knn for different slices\n",
    "coffee_acc = []\n",
    "for j in range(0,num):\n",
    "    knn = KNN()\n",
    "    knn.fit(coffee_train_x_slices[j], coffee_train_y)\n",
    "    coffee_acc.append(acc(coffee_test_y, knn.predict(coffee_test_x_slices[j])))\n",
    "    print('Accuracy KNN in slice %2i: %.2f' %(j+1, acc(coffee_test_y, knn.predict(coffee_test_x_slices[j]))))"
   ]
  },
  {
   "cell_type": "code",
   "execution_count": 102,
   "metadata": {
    "collapsed": false
   },
   "outputs": [
    {
     "data": {
      "image/png": "[encoded data removed]",
      "text/plain": [
       "<matplotlib.figure.Figure at 0x115b637f0>"
      ]
     },
     "metadata": {},
     "output_type": "display_data"
    }
   ],
   "source": [
    "plt.bar(range(0,num), coffee_acc)\n",
    "plt.hlines(np.mean(coffee_acc),0,num,color=\"r\")\n",
    "plt.title(\"Accuracy of KNN on different slices (Coffee dataset)\")\n",
    "plt.xlabel(\"index of slice\")\n",
    "plt.ylabel(\"accuracy\")\n",
    "plt.show()"
   ]
  },
  {
   "cell_type": "markdown",
   "metadata": {},
   "source": [
    "### ECG Torso Data Set"
   ]
  },
  {
   "cell_type": "code",
   "execution_count": 31,
   "metadata": {
    "collapsed": true
   },
   "outputs": [],
   "source": [
    "ecg_train = pd.read_csv('ecg_test.csv', sep=',', header=None).astype(float)\n",
    "ecg_train.replace([np.inf, -np.inf], np.nan).dropna()\n",
    "ecg_train = ecg_train.loc[:186, :]\n",
    "ecg_train_y = ecg_train.loc[:, 0]\n",
    "ecg_train_x = ecg_train.loc[:, 1:]\n",
    "ecg_test = pd.read_csv('ecg_train.csv', sep=',', header=None).astype(float)\n",
    "ecg_test.replace([np.inf, -np.inf], np.nan).dropna()\n",
    "ecg_test_y = ecg_test.loc[:, 0]\n",
    "ecg_test_x = ecg_test.loc[:, 1:]"
   ]
  },
  {
   "cell_type": "code",
   "execution_count": 56,
   "metadata": {
    "collapsed": true
   },
   "outputs": [],
   "source": [
    "# splitting into bins\n",
    "ecg_train_x_slices = []\n",
    "ecg_test_x_slices = []\n",
    "num2 = 17\n",
    "for p in range(0,num2):\n",
    "    ecg_train_x_slices.append(ecg_train_x.loc[:, p*len(ecg_train_x.columns)/num2:(p+1)*len(ecg_train_x.columns)/num2])\n",
    "    ecg_test_x_slices.append(ecg_test_x.loc[:, p*len(ecg_test_x.columns)/num2:(p+1)*len(ecg_test_x.columns)/num2])"
   ]
  },
  {
   "cell_type": "code",
   "execution_count": 70,
   "metadata": {
    "collapsed": false
   },
   "outputs": [
    {
     "name": "stdout",
     "output_type": "stream",
     "text": [
      "Accuracy KNN in slice  1: 0.50\n",
      "Accuracy KNN in slice  2: 0.40\n",
      "Accuracy KNN in slice  3: 0.42\n",
      "Accuracy KNN in slice  4: 0.65\n",
      "Accuracy KNN in slice  5: 0.40\n",
      "Accuracy KNN in slice  6: 0.75\n",
      "Accuracy KNN in slice  7: 0.68\n",
      "Accuracy KNN in slice  8: 0.82\n",
      "Accuracy KNN in slice  9: 0.75\n",
      "Accuracy KNN in slice 10: 0.70\n",
      "Accuracy KNN in slice 11: 0.65\n",
      "Accuracy KNN in slice 12: 0.57\n",
      "Accuracy KNN in slice 13: 0.47\n",
      "Accuracy KNN in slice 14: 0.50\n",
      "Accuracy KNN in slice 15: 0.50\n",
      "Accuracy KNN in slice 16: 0.55\n",
      "Accuracy KNN in slice 17: 0.55\n"
     ]
    }
   ],
   "source": [
    "# training knn for different slices\n",
    "ecg_acc = []\n",
    "for q in range(0,num2):\n",
    "    knn2 = KNN()\n",
    "    knn2.fit(ecg_train_x_slices[q], ecg_train_y)\n",
    "    ecg_acc.append(acc(ecg_test_y, knn2.predict(ecg_test_x_slices[q])))\n",
    "    print('Accuracy KNN in slice %2i: %.2f' %(q+1, acc(ecg_test_y, knn2.predict(ecg_test_x_slices[q]))))"
   ]
  },
  {
   "cell_type": "code",
   "execution_count": 103,
   "metadata": {
    "collapsed": false
   },
   "outputs": [
    {
     "data": {
      "image/png": "[encoded data removed]",
      "text/plain": [
       "<matplotlib.figure.Figure at 0x1157885c0>"
      ]
     },
     "metadata": {},
     "output_type": "display_data"
    }
   ],
   "source": [
    "plt.bar(range(0,num2), ecg_acc)\n",
    "plt.hlines(np.mean(ecg_acc),0,num2,color=\"r\")\n",
    "plt.title(\"Accuracy of KNN on different slices (ECG dataset)\")\n",
    "plt.xlabel(\"index of slice\")\n",
    "plt.ylabel(\"accuracy\")\n",
    "plt.show()"
   ]
  },
  {
   "cell_type": "code",
   "execution_count": null,
   "metadata": {
    "collapsed": true
   },
   "outputs": [],
   "source": []
  }
 ],
 "metadata": {
  "anaconda-cloud": {},
  "kernelspec": {
   "display_name": "Python 3",
   "language": "python",
   "name": "python3"
  },
  "language_info": {
   "codemirror_mode": {
    "name": "ipython",
    "version": 3
   },
   "file_extension": ".py",
   "mimetype": "text/x-python",
   "name": "python",
   "nbconvert_exporter": "python",
   "pygments_lexer": "ipython3",
   "version": "3.5.2"
  }
 },
 "nbformat": 4,
 "nbformat_minor": 1
}
